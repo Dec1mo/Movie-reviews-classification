{
 "cells": [
  {
   "cell_type": "code",
   "execution_count": 1,
   "metadata": {},
   "outputs": [],
   "source": [
    "from scipy.sparse import csr_matrix\n",
    "from sklearn.svm import SVC"
   ]
  },
  {
   "cell_type": "code",
   "execution_count": 1,
   "metadata": {},
   "outputs": [],
   "source": [
    "def convert_to_sparse(train_list_of_word_fre):\n",
    "    print ('Converting to sparse matrix')\n",
    "    data = []\n",
    "    row = []\n",
    "    col = []\n",
    "    for i in range(len(train_list_of_word_fre)):\n",
    "        for col_, fre_ in train_list_of_word_fre[i].items():\n",
    "            row.append(i)\n",
    "            col.append(int(col_))\n",
    "            data.append(int(fre_))\n",
    "    print ('Converted to sparse matrix')        \n",
    "    return csr_matrix((data, (row,col)))\n",
    "        "
   ]
  },
  {
   "cell_type": "code",
   "execution_count": 2,
   "metadata": {},
   "outputs": [],
   "source": [
    "def train_with_svm(train_fre_matrix, train_labels):\n",
    "    print ('Training with svm')\n",
    "    clf = SVC(kernel = 'linear', C = 1).fit(train_fre_matrix, train_labels)\n",
    "    print ('Trained with svm')\n",
    "    return clf"
   ]
  },
  {
   "cell_type": "code",
   "execution_count": null,
   "metadata": {},
   "outputs": [],
   "source": [
    "def score(clf, test_fre_matrix, test_labels):\n",
    "    return clf.score(test_fre_matrix, test_labels)"
   ]
  }
 ],
 "metadata": {
  "kernelspec": {
   "display_name": "Python 3",
   "language": "python",
   "name": "python3"
  },
  "language_info": {
   "codemirror_mode": {
    "name": "ipython",
    "version": 3
   },
   "file_extension": ".py",
   "mimetype": "text/x-python",
   "name": "python",
   "nbconvert_exporter": "python",
   "pygments_lexer": "ipython3",
   "version": "3.7.1"
  }
 },
 "nbformat": 4,
 "nbformat_minor": 2
}
