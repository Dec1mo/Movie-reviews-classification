{
 "cells": [
  {
   "cell_type": "code",
   "execution_count": 1,
   "metadata": {},
   "outputs": [
    {
     "name": "stdout",
     "output_type": "stream",
     "text": [
      "importing Jupyter notebook from clean_data.ipynb\n",
      "importing Jupyter notebook from bag_of_word.ipynb\n",
      "importing Jupyter notebook from pickle_file.ipynb\n",
      "importing Jupyter notebook from training_model.ipynb\n",
      "importing Jupyter notebook from tf_idf.ipynb\n",
      "importing Jupyter notebook from svm.ipynb\n"
     ]
    }
   ],
   "source": [
    "import import_ipynb\n",
    "import clean_data as CD\n",
    "import bag_of_word as BOW\n",
    "import pickle_file as PF\n",
    "import training_model as TM\n",
    "import tf_idf\n",
    "import svm"
   ]
  },
  {
   "cell_type": "code",
   "execution_count": 2,
   "metadata": {},
   "outputs": [],
   "source": [
    "def main():\n",
    "    train_path = r'train'\n",
    "    test_path = r'test'\n",
    "    '''\n",
    "    CD.clean_data(train_path)\n",
    "    CD.clean_data(test_path)\n",
    "    vocab_list, list_of_words_id = BOW.bag_of_words(train_path)\n",
    "    PF.dump_to_file(r'../pickle/vocab_list.pickle', vocab_list)\n",
    "    PF.dump_to_file(r'../pickle/list_of_words_id.pickle', list_of_words_id)\n",
    "    \n",
    "    list_of_word_fre = BOW.text2vec(vocab_list, list_of_words_id)\n",
    "    PF.dump_to_file(r'../pickle/train_list_of_word_fre.pickle', list_of_word_fre)\n",
    "    neg_pretrain_dict, pos_pretrain_dict = TM.train(list_of_word_fre, training_vocab_size, 12500)\n",
    "    PF.dump_to_file(r'../pickle/neg_pretrain_dict.pickle', neg_pretrain_dict)\n",
    "    PF.dump_to_file(r'../pickle/pos_pretrain_dict.pickle', pos_pretrain_dict)\n",
    "    \n",
    "    test_list_of_words_id = BOW.bag_of_words_for_test(test_path, vocab_list)\n",
    "    PF.dump_to_file(r'../pickle/test_list_of_words_id.pickle', test_list_of_words_id)\n",
    "    test_list_of_word_fre = BOW.text2vec(vocab_list, test_list_of_words_id)\n",
    "    PF.dump_to_file(r'../pickle/test_list_of_word_fre.pickle', test_list_of_word_fre)\n",
    "    '''\n",
    "    vocab_list = PF.load_from_file(r'../pickle/vocab_list.pickle')\n",
    "    training_vocab_size = len(vocab_list)\n",
    "    train_list_of_word_fre = PF.load_from_file(r'../pickle/train_list_of_word_fre.pickle')\n",
    "    test_list_of_word_fre = PF.load_from_file(r'../pickle/test_list_of_word_fre.pickle')\n",
    "    test_labels = TM.set_label(12500,12500,'neg','pos')\n",
    "    \n",
    "    #----------------------- naive without tf-idf -------------------------------\n",
    "    neg_pretrain_dict = PF.load_from_file(r'../pickle/neg_pretrain_dict.pickle')\n",
    "    pos_pretrain_dict = PF.load_from_file(r'../pickle/pos_pretrain_dict.pickle')\n",
    "    accuracy = TM.predict(neg_pretrain_dict, pos_pretrain_dict, test_list_of_word_fre, test_labels)\n",
    "    print ('Accuracy with naive bayes with no tf-idf = {} %'.format(accuracy * 100))\n",
    "    \n",
    "    train_fre_matrix = svm.convert_to_sparse(train_list_of_word_fre, training_vocab_size)\n",
    "    train_labels = TM.set_label(12500,12500,'neg','pos')\n",
    "    test_fre_matrix = svm.convert_to_sparse(test_list_of_word_fre, training_vocab_size)\n",
    "    \n",
    "    #------------------------ Linear SVM without tf-idf ------------------------------------------------\n",
    "    #linear_svm_clf = svm.train_with_svm('linear', 1, train_fre_matrix, train_labels)\n",
    "    #PF.dump_to_file(r'../pickle/linear_svm_clf', linear_svm_clf)\n",
    "    linear_svm_clf = PF.load_from_file(r'../pickle/linear_svm_clf')\n",
    "    accuracy = svm.score(linear_svm_clf, test_fre_matrix, test_labels)\n",
    "    print ('Accuracy with linear svm with no tf-idf = {} %'.format(accuracy * 100))\n",
    "    \n",
    "    train_list_of_tf_idf = tf_idf.compute_TF_IDF(train_list_of_word_fre, training_vocab_size)\n",
    "    tf_idf_neg_pretrain_dict, tf_idf_pos_pretrain_dict = TM.train(train_list_of_tf_idf, training_vocab_size, 12500)\n",
    "    test_list_of_tf_idf = tf_idf.compute_TF_IDF(test_list_of_word_fre, training_vocab_size)\n",
    "    #----------------------- naive with tf-idf ----------------------------------\n",
    "    accuracy = TM.predict(tf_idf_neg_pretrain_dict, tf_idf_pos_pretrain_dict, test_list_of_tf_idf, test_labels)\n",
    "    print ('Accuracy with naive bayes with tf-idf = {} %'.format(accuracy * 100))\n",
    "    \n",
    "    \n",
    "    tf_idf_train_fre_matrix = svm.convert_to_sparse(train_list_of_tf_idf, training_vocab_size)\n",
    "    tf_idf_test_fre_matrix = svm.convert_to_sparse(test_list_of_tf_idf, training_vocab_size)\n",
    "    \n",
    "    #----------------------- linear svm with tf-idf ----------------------------------\n",
    "    #linear_tf_idf_svm_clf = svm.train_with_svm('linear', 1, tf_idf_train_fre_matrix, train_labels)\n",
    "    #PF.dump_to_file(r'../pickle/linear_tf_idf_svm_clf.pickle', linear_tf_idf_svm_clf)\n",
    "    linear_tf_idf_svm_clf = PF.load_from_file(r'../pickle/linear_tf_idf_svm_clf.pickle')\n",
    "    accuracy = svm.score(linear_tf_idf_svm_clf, tf_idf_test_fre_matrix, test_labels)\n",
    "    print ('Accuracy with linear svm with tf-idf = {} %'.format(accuracy * 100))\n",
    "    \n",
    "\n",
    "    "
   ]
  },
  {
   "cell_type": "code",
   "execution_count": 3,
   "metadata": {},
   "outputs": [
    {
     "name": "stdout",
     "output_type": "stream",
     "text": [
      "Accuracy with naive bayes with no tf-idf = 78.388 %\n",
      "Converting to sparse matrix\n",
      "Converted to sparse matrix\n",
      "Converting to sparse matrix\n",
      "Converted to sparse matrix\n",
      "Accuracy with linear svm with no tf-idf = 83.164 %\n",
      "Computing TF\n",
      "Finish computing TF\n",
      "Computing IDF\n",
      "Done computing IDF\n",
      "Computing TF_IDF\n",
      "Done computing TF_IDF\n",
      "Training with naive\n",
      "Trained with naive\n",
      "Computing TF\n",
      "Finish computing TF\n",
      "Computing IDF\n",
      "Done computing IDF\n",
      "Computing TF_IDF\n",
      "Done computing TF_IDF\n",
      "Accuracy with naive bayes with tf-idf = 83.756 %\n",
      "Converting to sparse matrix\n",
      "Converted to sparse matrix\n",
      "Converting to sparse matrix\n",
      "Converted to sparse matrix\n",
      "Accuracy with linear svm with tf-idf = 87.86 %\n"
     ]
    }
   ],
   "source": [
    "if __name__ == '__main__':\n",
    "    main()"
   ]
  },
  {
   "cell_type": "code",
   "execution_count": null,
   "metadata": {},
   "outputs": [],
   "source": []
  },
  {
   "cell_type": "code",
   "execution_count": null,
   "metadata": {},
   "outputs": [],
   "source": []
  },
  {
   "cell_type": "code",
   "execution_count": null,
   "metadata": {},
   "outputs": [],
   "source": []
  }
 ],
 "metadata": {
  "kernelspec": {
   "display_name": "Python 3",
   "language": "python",
   "name": "python3"
  },
  "language_info": {
   "codemirror_mode": {
    "name": "ipython",
    "version": 3
   },
   "file_extension": ".py",
   "mimetype": "text/x-python",
   "name": "python",
   "nbconvert_exporter": "python",
   "pygments_lexer": "ipython3",
   "version": "3.7.1"
  }
 },
 "nbformat": 4,
 "nbformat_minor": 2
}
